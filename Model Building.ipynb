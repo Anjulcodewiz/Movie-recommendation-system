{
 "cells": [
  {
   "cell_type": "code",
   "execution_count": 1,
   "id": "ab477303",
   "metadata": {},
   "outputs": [],
   "source": [
    "import pandas as pd\n",
    "import numpy as np\n",
    "import pickle"
   ]
  },
  {
   "cell_type": "code",
   "execution_count": 2,
   "id": "5cd1a505",
   "metadata": {},
   "outputs": [
    {
     "data": {
      "text/html": [
       "<div>\n",
       "<style scoped>\n",
       "    .dataframe tbody tr th:only-of-type {\n",
       "        vertical-align: middle;\n",
       "    }\n",
       "\n",
       "    .dataframe tbody tr th {\n",
       "        vertical-align: top;\n",
       "    }\n",
       "\n",
       "    .dataframe thead th {\n",
       "        text-align: right;\n",
       "    }\n",
       "</style>\n",
       "<table border=\"1\" class=\"dataframe\">\n",
       "  <thead>\n",
       "    <tr style=\"text-align: right;\">\n",
       "      <th></th>\n",
       "      <th>title</th>\n",
       "      <th>combined</th>\n",
       "    </tr>\n",
       "  </thead>\n",
       "  <tbody>\n",
       "    <tr>\n",
       "      <th>0</th>\n",
       "      <td>Avengers: Infinity War</td>\n",
       "      <td>the avengers and their allies must be willing ...</td>\n",
       "    </tr>\n",
       "    <tr>\n",
       "      <th>1</th>\n",
       "      <td>Black Panther</td>\n",
       "      <td>t'challa, heir to the hidden but advanced king...</td>\n",
       "    </tr>\n",
       "    <tr>\n",
       "      <th>2</th>\n",
       "      <td>Deadpool 2</td>\n",
       "      <td>foul-mouthed mutant mercenary wade wilson (a.k...</td>\n",
       "    </tr>\n",
       "    <tr>\n",
       "      <th>3</th>\n",
       "      <td>Bohemian Rhapsody</td>\n",
       "      <td>the story of the legendary british rock band q...</td>\n",
       "    </tr>\n",
       "    <tr>\n",
       "      <th>4</th>\n",
       "      <td>A Quiet Place</td>\n",
       "      <td>in a post-apocalyptic world, a family is force...</td>\n",
       "    </tr>\n",
       "  </tbody>\n",
       "</table>\n",
       "</div>"
      ],
      "text/plain": [
       "                    title                                           combined\n",
       "0  Avengers: Infinity War  the avengers and their allies must be willing ...\n",
       "1           Black Panther  t'challa, heir to the hidden but advanced king...\n",
       "2              Deadpool 2  foul-mouthed mutant mercenary wade wilson (a.k...\n",
       "3       Bohemian Rhapsody  the story of the legendary british rock band q...\n",
       "4           A Quiet Place  in a post-apocalyptic world, a family is force..."
      ]
     },
     "execution_count": 2,
     "metadata": {},
     "output_type": "execute_result"
    }
   ],
   "source": [
    "new_movies = pd.read_csv('new_movies.csv')\n",
    "new_movies.head()"
   ]
  },
  {
   "cell_type": "code",
   "execution_count": 3,
   "id": "5e6bb8a8",
   "metadata": {},
   "outputs": [],
   "source": [
    "from tmdbv3api import TMDb,Movie\n",
    "tmdb = TMDb()\n",
    "tmdb_movie = Movie() \n",
    "tmdb.api_key = \"API Key\"\n",
    "tmdb.language = 'en'\n",
    "tmdb.debug = True"
   ]
  },
  {
   "cell_type": "code",
   "execution_count": 4,
   "id": "3dc19e5b",
   "metadata": {},
   "outputs": [],
   "source": [
    "def get_movie_id(x):\n",
    "    id_ = []\n",
    "    search = tmdb_movie.search(x)\n",
    "    for res in search:\n",
    "        id_.append(res.id)\n",
    "    try:\n",
    "        return(id_[0])\n",
    "    except:\n",
    "        return np.NaN\n",
    "    "
   ]
  },
  {
   "cell_type": "code",
   "execution_count": 5,
   "id": "cdb3f842",
   "metadata": {},
   "outputs": [],
   "source": [
    "#getting movie id for new movies\n",
    "new_movies['movie_id'] = new_movies['title'].apply(get_movie_id)"
   ]
  },
  {
   "cell_type": "code",
   "execution_count": 6,
   "id": "ea71c54d",
   "metadata": {},
   "outputs": [],
   "source": [
    "#dropping missing values\n",
    "new_movies.dropna(inplace = True)"
   ]
  },
  {
   "cell_type": "code",
   "execution_count": 7,
   "id": "de6f3995",
   "metadata": {},
   "outputs": [],
   "source": [
    "new_movies['movie_id'] = new_movies['movie_id'].apply(lambda x:int(x))"
   ]
  },
  {
   "cell_type": "code",
   "execution_count": 8,
   "id": "aad5fd21",
   "metadata": {},
   "outputs": [
    {
     "data": {
      "text/html": [
       "<div>\n",
       "<style scoped>\n",
       "    .dataframe tbody tr th:only-of-type {\n",
       "        vertical-align: middle;\n",
       "    }\n",
       "\n",
       "    .dataframe tbody tr th {\n",
       "        vertical-align: top;\n",
       "    }\n",
       "\n",
       "    .dataframe thead th {\n",
       "        text-align: right;\n",
       "    }\n",
       "</style>\n",
       "<table border=\"1\" class=\"dataframe\">\n",
       "  <thead>\n",
       "    <tr style=\"text-align: right;\">\n",
       "      <th></th>\n",
       "      <th>movie_id</th>\n",
       "      <th>title</th>\n",
       "      <th>combined</th>\n",
       "    </tr>\n",
       "  </thead>\n",
       "  <tbody>\n",
       "    <tr>\n",
       "      <th>0</th>\n",
       "      <td>19995</td>\n",
       "      <td>Avatar</td>\n",
       "      <td>in the 22nd century, a paraplegic marine is di...</td>\n",
       "    </tr>\n",
       "    <tr>\n",
       "      <th>1</th>\n",
       "      <td>285</td>\n",
       "      <td>Pirates of the Caribbean: At World's End</td>\n",
       "      <td>captain barbossa, long believed to be dead, ha...</td>\n",
       "    </tr>\n",
       "    <tr>\n",
       "      <th>2</th>\n",
       "      <td>206647</td>\n",
       "      <td>Spectre</td>\n",
       "      <td>a cryptic message from bond’s past sends him o...</td>\n",
       "    </tr>\n",
       "    <tr>\n",
       "      <th>3</th>\n",
       "      <td>49026</td>\n",
       "      <td>The Dark Knight Rises</td>\n",
       "      <td>following the death of district attorney harve...</td>\n",
       "    </tr>\n",
       "    <tr>\n",
       "      <th>4</th>\n",
       "      <td>49529</td>\n",
       "      <td>John Carter</td>\n",
       "      <td>john carter is a war-weary, former military ca...</td>\n",
       "    </tr>\n",
       "  </tbody>\n",
       "</table>\n",
       "</div>"
      ],
      "text/plain": [
       "   movie_id                                     title  \\\n",
       "0     19995                                    Avatar   \n",
       "1       285  Pirates of the Caribbean: At World's End   \n",
       "2    206647                                   Spectre   \n",
       "3     49026                     The Dark Knight Rises   \n",
       "4     49529                               John Carter   \n",
       "\n",
       "                                            combined  \n",
       "0  in the 22nd century, a paraplegic marine is di...  \n",
       "1  captain barbossa, long believed to be dead, ha...  \n",
       "2  a cryptic message from bond’s past sends him o...  \n",
       "3  following the death of district attorney harve...  \n",
       "4  john carter is a war-weary, former military ca...  "
      ]
     },
     "execution_count": 8,
     "metadata": {},
     "output_type": "execute_result"
    }
   ],
   "source": [
    "old_movies = pd.read_csv('new_data.csv')\n",
    "old_movies.head()"
   ]
  },
  {
   "cell_type": "code",
   "execution_count": 9,
   "id": "bbc08178",
   "metadata": {},
   "outputs": [],
   "source": [
    "#combining the dataframes and saiving it as a dictionary to be used in flask\n",
    "new_movies = new_movies[['movie_id','title','combined']]\n",
    "total_movies = old_movies.append(new_movies,ignore_index=True)\n",
    "movie_dict = total_movies.to_dict()\n",
    "\n",
    "with open('movie_dict5.pkl','wb') as f:\n",
    "    pickle.dump(movie_dict,f)"
   ]
  },
  {
   "cell_type": "markdown",
   "id": "cbcd8e47",
   "metadata": {},
   "source": [
    "## Text preprocessing"
   ]
  },
  {
   "cell_type": "code",
   "execution_count": 10,
   "id": "c15c37cd",
   "metadata": {},
   "outputs": [],
   "source": [
    "from sklearn.feature_extraction.text import TfidfVectorizer\n",
    "tfv = TfidfVectorizer(min_df=3,max_features = None,strip_accents='unicode',analyzer='word',token_pattern=r'\\w{1,}',\n",
    "                     ngram_range=(1,3),stop_words='english')"
   ]
  },
  {
   "cell_type": "code",
   "execution_count": 11,
   "id": "e9e0feea",
   "metadata": {},
   "outputs": [],
   "source": [
    "matrix = tfv.fit_transform(total_movies['combined'])"
   ]
  },
  {
   "cell_type": "markdown",
   "id": "2992f579",
   "metadata": {},
   "source": [
    "## Model building"
   ]
  },
  {
   "cell_type": "code",
   "execution_count": 13,
   "id": "703d2daa",
   "metadata": {},
   "outputs": [],
   "source": [
    "from sklearn.metrics.pairwise import sigmoid_kernel\n",
    "sig = sigmoid_kernel(matrix,matrix)"
   ]
  },
  {
   "cell_type": "code",
   "execution_count": 14,
   "id": "a3c856b9",
   "metadata": {},
   "outputs": [],
   "source": [
    "def recommender(movie):\n",
    "    movie_index = total_movies[total_movies['title'] == movie].index[0]\n",
    "    distance =sig[movie_index]\n",
    "    movie_list = sorted(list(enumerate(distance)),reverse = True,key = lambda x:x[1])[1:7]\n",
    "    \n",
    "    for i in movie_list:\n",
    "        print(total_movies.iloc[i[0]].title)"
   ]
  },
  {
   "cell_type": "code",
   "execution_count": 48,
   "id": "1e2f85ef",
   "metadata": {},
   "outputs": [
    {
     "name": "stdout",
     "output_type": "stream",
     "text": [
      "Batman v Superman: Dawn of Justice\n",
      "Zack Snyder's Justice League\n",
      "Dragonball Evolution\n",
      "Beastmaster 2: Through the Portal of Time\n",
      "The Chronicles of Riddick\n",
      "X-Men: Days of Future Past\n"
     ]
    }
   ],
   "source": [
    "#testing the recommender engine\n",
    "recommender('Man of Steel')"
   ]
  }
 ],
 "metadata": {
  "kernelspec": {
   "display_name": "Python 3 (ipykernel)",
   "language": "python",
   "name": "python3"
  },
  "language_info": {
   "codemirror_mode": {
    "name": "ipython",
    "version": 3
   },
   "file_extension": ".py",
   "mimetype": "text/x-python",
   "name": "python",
   "nbconvert_exporter": "python",
   "pygments_lexer": "ipython3",
   "version": "3.8.12"
  }
 },
 "nbformat": 4,
 "nbformat_minor": 5
}
