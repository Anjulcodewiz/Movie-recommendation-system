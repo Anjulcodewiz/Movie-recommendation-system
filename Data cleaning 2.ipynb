{
 "cells": [
  {
   "cell_type": "code",
   "execution_count": 1,
   "id": "ea8da754",
   "metadata": {},
   "outputs": [],
   "source": [
    "import pandas as pd\n",
    "import requests\n",
    "from bs4 import BeautifulSoup"
   ]
  },
  {
   "cell_type": "markdown",
   "id": "dcd10e8e",
   "metadata": {},
   "source": [
    "## Webscraping 2018 movies"
   ]
  },
  {
   "cell_type": "code",
   "execution_count": 3,
   "id": "74d6d08a",
   "metadata": {},
   "outputs": [],
   "source": [
    "#number of pages for pagination\n",
    "num = [1,51,101,151,201,251]\n",
    "title = []\n",
    "Genre = []\n",
    "cast = []\n",
    "director = []\n",
    "overview = []"
   ]
  },
  {
   "cell_type": "code",
   "execution_count": 4,
   "id": "b3191f73",
   "metadata": {},
   "outputs": [],
   "source": [
    "for i in num:\n",
    "    response = requests.get(f'https://www.imdb.com/search/title/?title_type=feature&year=2018-01-01,2018-12-31&sort=num_votes,desc&start={i}&ref_=adv_nxt')\n",
    "    soup = BeautifulSoup(response.content,'html.parser')\n",
    "    movie_data = soup.findAll('div',attrs={'class':'lister-item mode-advanced'})\n",
    "    \n",
    "    for i in movie_data:\n",
    "        name = i.h3.a.text\n",
    "        title.append(name)\n",
    "        \n",
    "        genre = i.p.find('span',class_= 'genre').text.replace(' ','').replace('\\n','')\n",
    "        Genre.append(genre)\n",
    "        \n",
    "        story = i.find_all('p',class_ = 'text-muted')[1].text.replace('\\n','')\n",
    "        overview.append(story)\n",
    "        \n",
    "        director_ = i.find('p',class_='').text.replace(' ','').replace('\\n','').split('|')[0].split(':')[1]\n",
    "        director.append(director_)\n",
    "        \n",
    "        stars = i.find('p',class_='').text.replace(' ','').replace('\\n','').split('|')[1].split(':')[1]\n",
    "        cast.append(stars)"
   ]
  },
  {
   "cell_type": "code",
   "execution_count": 7,
   "id": "9e750544",
   "metadata": {},
   "outputs": [],
   "source": [
    "movies_2018 = pd.DataFrame({'title':title,'genre':Genre,'cast':cast,'director':director,'overview':overview})"
   ]
  },
  {
   "cell_type": "code",
   "execution_count": 12,
   "id": "1cda1a61",
   "metadata": {},
   "outputs": [],
   "source": [
    "#removing 4th actor\n",
    "movies_2018['cast'] = movies_2018['cast'].apply(lambda x:x.split(',')[0:3])"
   ]
  },
  {
   "cell_type": "markdown",
   "id": "fda336c2",
   "metadata": {},
   "source": [
    "## Webscraping 2019 movies"
   ]
  },
  {
   "cell_type": "code",
   "execution_count": 15,
   "id": "322eb0eb",
   "metadata": {},
   "outputs": [],
   "source": [
    "title2 = []\n",
    "Genre2 = []\n",
    "cast2 = []\n",
    "director2 = []\n",
    "overview2 = []"
   ]
  },
  {
   "cell_type": "code",
   "execution_count": 16,
   "id": "65b9576e",
   "metadata": {},
   "outputs": [],
   "source": [
    "for i in num:\n",
    "    response = requests.get(f'https://www.imdb.com/search/title/?title_type=feature&year=2019-01-01,2019-12-31&start={i}&ref_=adv_nxt')\n",
    "    soup = BeautifulSoup(response.content,'html.parser')\n",
    "    movie_data = soup.findAll('div',attrs={'class':'lister-item mode-advanced'})\n",
    "    \n",
    "    for i in movie_data:\n",
    "        name = i.h3.a.text\n",
    "        title2.append(name)\n",
    "        \n",
    "        genre = i.p.find('span',class_= 'genre').text.replace(' ','').replace('\\n','')\n",
    "        Genre2.append(genre)\n",
    "        \n",
    "        story = i.find_all('p',class_ = 'text-muted')[1].text.replace('\\n','')\n",
    "        overview2.append(story)\n",
    "        \n",
    "        director_ = i.find('p',class_='').text.replace(' ','').replace('\\n','').split('|')[0].split(':')[1]\n",
    "        director2.append(director_)\n",
    "        \n",
    "        stars = i.find('p',class_='').text.replace(' ','').replace('\\n','').split('|')[1].split(':')[1]\n",
    "        cast2.append(stars)"
   ]
  },
  {
   "cell_type": "code",
   "execution_count": 21,
   "id": "bdcc620a",
   "metadata": {},
   "outputs": [],
   "source": [
    "movies_2019 = pd.DataFrame({'title':title2,'genre':Genre2,'cast':cast2,'director':director2,'overview':overview2})\n",
    "#removing 4th actor\n",
    "movies_2019['cast'] = movies_2019['cast'].apply(lambda x:x.split(',')[0:3])"
   ]
  },
  {
   "cell_type": "markdown",
   "id": "f7c7b2f7",
   "metadata": {},
   "source": [
    "## Webscraping 2020 movies"
   ]
  },
  {
   "cell_type": "code",
   "execution_count": 28,
   "id": "65591e18",
   "metadata": {},
   "outputs": [],
   "source": [
    "title4 = []\n",
    "Genre4 = []\n",
    "cast4 = []\n",
    "director4 = []\n",
    "overview4 = []"
   ]
  },
  {
   "cell_type": "code",
   "execution_count": 29,
   "id": "e6e8b15d",
   "metadata": {},
   "outputs": [],
   "source": [
    "for i in num:\n",
    "    response = requests.get(f'https://www.imdb.com/search/title/?title_type=feature&year=2020-01-01,2020-12-31&start={i}&ref_=adv_nxt')\n",
    "    soup = BeautifulSoup(response.content,'html.parser')\n",
    "    movie_data = soup.findAll('div',attrs={'class':'lister-item mode-advanced'})\n",
    "    \n",
    "    for i in movie_data:\n",
    "        name = i.h3.a.text\n",
    "        title4.append(name)\n",
    "        \n",
    "        genre = i.p.find('span',class_= 'genre').text.replace(' ','').replace('\\n','')\n",
    "        Genre4.append(genre)\n",
    "        \n",
    "        story = i.find_all('p',class_ = 'text-muted')[1].text.replace('\\n','')\n",
    "        overview4.append(story)\n",
    "        \n",
    "        director_ = i.find('p',class_='').text.replace(' ','').replace('\\n','').split('|')[0].split(':')[1]\n",
    "        director4.append(director_)\n",
    "        \n",
    "        try:\n",
    "            stars = i.find('p',class_='').text.replace(' ','').replace('\\n','').split('|')[1].split(':')[1]\n",
    "        except: \n",
    "            stars ='nan'\n",
    "        cast4.append(stars)    \n",
    "            "
   ]
  },
  {
   "cell_type": "code",
   "execution_count": 32,
   "id": "f3dc7f0b",
   "metadata": {},
   "outputs": [],
   "source": [
    "movies_2020 = pd.DataFrame({'title':title4,'genre':Genre4,'cast':cast4,'director':director4,'overview':overview4})\n",
    "#removing 4th actor\n",
    "movies_2020['cast'] = movies_2020['cast'].apply(lambda x:x.split(',')[0:3])"
   ]
  },
  {
   "cell_type": "markdown",
   "id": "463a0d9d",
   "metadata": {},
   "source": [
    "## Webscraping 2021 movies"
   ]
  },
  {
   "cell_type": "code",
   "execution_count": 34,
   "id": "708a9070",
   "metadata": {},
   "outputs": [],
   "source": [
    "title5 = []\n",
    "Genre5 = []\n",
    "cast5 = []\n",
    "director5 = []\n",
    "overview5 = []"
   ]
  },
  {
   "cell_type": "code",
   "execution_count": 35,
   "id": "84d15e79",
   "metadata": {},
   "outputs": [],
   "source": [
    "for i in num:\n",
    "    response = requests.get(f'https://www.imdb.com/search/title/?title_type=feature&year=2021-01-01,2021-10-31&start={i}&ref_=adv_nxt')\n",
    "    soup = BeautifulSoup(response.content,'html.parser')\n",
    "    movie_data = soup.findAll('div',attrs={'class':'lister-item mode-advanced'})\n",
    "    \n",
    "    for i in movie_data:\n",
    "        name = i.h3.a.text\n",
    "        title5.append(name)\n",
    "        \n",
    "        genre = i.p.find('span',class_= 'genre').text.replace(' ','').replace('\\n','')\n",
    "        Genre5.append(genre)\n",
    "        \n",
    "        story = i.find_all('p',class_ = 'text-muted')[1].text.replace('\\n','')\n",
    "        overview5.append(story)\n",
    "        \n",
    "        director_ = i.find('p',class_='').text.replace(' ','').replace('\\n','').split('|')[0].split(':')[1]\n",
    "        director5.append(director_)\n",
    "        \n",
    "        try:\n",
    "            stars = i.find('p',class_='').text.replace(' ','').replace('\\n','').split('|')[1].split(':')[1]\n",
    "        except: \n",
    "            stars ='nan'\n",
    "        cast5.append(stars)    "
   ]
  },
  {
   "cell_type": "markdown",
   "id": "17276713",
   "metadata": {},
   "source": [
    "## Cleaning the scraped data"
   ]
  },
  {
   "cell_type": "code",
   "execution_count": 76,
   "id": "c172e903",
   "metadata": {},
   "outputs": [],
   "source": [
    "movies_2021 = pd.DataFrame({'title':title5,'genre':Genre5,'cast':cast5,'director':director5,'overview':overview5})\n",
    "#removing 4th actor\n",
    "movies_2021['cast'] = movies_2021['cast'].apply(lambda x:x.split(',')[0:3])"
   ]
  },
  {
   "cell_type": "code",
   "execution_count": 80,
   "id": "6499ae32",
   "metadata": {},
   "outputs": [],
   "source": [
    "def genre_cleaner(x):\n",
    "    for i in x:\n",
    "        if  'Sci-Fi' in x:\n",
    "            return x.replace('Sci-Fi','ScienceFiction')\n",
    "        else:\n",
    "            return x\n",
    "        "
   ]
  },
  {
   "cell_type": "code",
   "execution_count": 81,
   "id": "1d7aa2fd",
   "metadata": {},
   "outputs": [],
   "source": [
    "movies_2018['genre'] = movies_2018['genre'].apply(genre_cleaner)\n",
    "movies_2019['genre'] = movies_2019['genre'].apply(genre_cleaner)\n",
    "movies_2020['genre'] = movies_2020['genre'].apply(genre_cleaner)\n",
    "movies_2021['genre'] = movies_2021['genre'].apply(genre_cleaner)"
   ]
  },
  {
   "cell_type": "code",
   "execution_count": 84,
   "id": "8dd6dd71",
   "metadata": {},
   "outputs": [],
   "source": [
    "movies_2018['cast'] = movies_2018['cast'].apply(lambda x:' '.join(x))\n",
    "movies_2019['cast'] = movies_2019['cast'].apply(lambda x:' '.join(x))\n",
    "movies_2020['cast'] = movies_2020['cast'].apply(lambda x:' '.join(x))\n",
    "movies_2021['cast'] = movies_2021['cast'].apply(lambda x:' '.join(x))"
   ]
  },
  {
   "cell_type": "code",
   "execution_count": 94,
   "id": "f0fb18f6",
   "metadata": {},
   "outputs": [],
   "source": [
    "movies_2018['genre'] = movies_2018['genre'].apply(lambda x:x.replace(',',' '))\n",
    "movies_2019['genre'] = movies_2019['genre'].apply(lambda x:x.replace(',',' '))\n",
    "movies_2020['genre'] = movies_2020['genre'].apply(lambda x:x.replace(',',' '))\n",
    "movies_2021['genre'] = movies_2021['genre'].apply(lambda x:x.replace(',',' '))"
   ]
  },
  {
   "cell_type": "code",
   "execution_count": 97,
   "id": "4a6dbfb0",
   "metadata": {},
   "outputs": [],
   "source": [
    "movies_2018['combined'] = movies_2018['overview'] + ' ' + movies_2018['cast'] + ' ' + movies_2018['director'] + ' ' + movies_2018['genre']\n",
    "movies_2019['combined'] = movies_2019['overview'] + ' ' + movies_2019['cast'] + ' ' + movies_2019['director'] + ' ' + movies_2019['genre']\n",
    "movies_2020['combined'] = movies_2020['overview'] + ' ' + movies_2020['cast'] + ' ' + movies_2020['director'] + ' ' + movies_2020['genre']\n",
    "movies_2021['combined'] = movies_2021['overview'] + ' ' + movies_2021['cast'] + ' ' + movies_2021['director'] + ' ' + movies_2021['genre']"
   ]
  },
  {
   "cell_type": "code",
   "execution_count": 98,
   "id": "0052c2c8",
   "metadata": {},
   "outputs": [],
   "source": [
    "movies_2018['combined'] = movies_2018['combined'].apply(lambda x:x.lower())\n",
    "movies_2019['combined'] = movies_2019['combined'].apply(lambda x:x.lower())\n",
    "movies_2020['combined'] = movies_2020['combined'].apply(lambda x:x.lower())\n",
    "movies_2021['combined'] = movies_2021['combined'].apply(lambda x:x.lower())"
   ]
  },
  {
   "cell_type": "code",
   "execution_count": 138,
   "id": "ceea5dbf",
   "metadata": {},
   "outputs": [],
   "source": [
    "new_movies = movies_2018[['title','combined']].append([movies_2019[['title','combined']],movies_2020[['title','combined']],movies_2021[['title','combined']]],ignore_index=True)"
   ]
  },
  {
   "cell_type": "code",
   "execution_count": 140,
   "id": "5a68f64d",
   "metadata": {},
   "outputs": [],
   "source": [
    "#saving the data\n",
    "new_movies.to_csv('new_movies.csv',index=False)"
   ]
  }
 ],
 "metadata": {
  "kernelspec": {
   "display_name": "Python 3 (ipykernel)",
   "language": "python",
   "name": "python3"
  },
  "language_info": {
   "codemirror_mode": {
    "name": "ipython",
    "version": 3
   },
   "file_extension": ".py",
   "mimetype": "text/x-python",
   "name": "python",
   "nbconvert_exporter": "python",
   "pygments_lexer": "ipython3",
   "version": "3.8.12"
  }
 },
 "nbformat": 4,
 "nbformat_minor": 5
}
